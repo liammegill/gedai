{
 "cells": [
  {
   "cell_type": "code",
   "execution_count": null,
   "id": "28595ca6",
   "metadata": {},
   "outputs": [],
   "source": [
    "# ensure that you have jupyter installed in your environment!\n",
    "\n",
    "import pandas as pd\n",
    "import openap\n",
    "from traffic.core import Flight\n",
    "\n",
    "# if you have not added the gedai folder to your PATH, then we need to append \n",
    "# the package using sys\n",
    "import sys\n",
    "sys.path.append(\"../\")\n",
    "import gedai"
   ]
  },
  {
   "cell_type": "markdown",
   "id": "75f02ce5",
   "metadata": {},
   "source": [
    "The first step is to load the raw ADS-B data.\n",
    "For this example, we are going to follow the DLR's HALO (D-ADLR) Gulfstream 5 research aircraft.\n",
    "The HALO has the unique ICAO transponder hex `3c5192`.\n",
    "We will use the private-jets database compiled by Gössling et al. (2024) on 06/08/2022.\n",
    "\n",
    "Note that ADS-B Exchange provides a free API for the first day of the month, so you can use the data here to do the same analysis."
   ]
  },
  {
   "cell_type": "code",
   "execution_count": null,
   "id": "f7c3b194",
   "metadata": {},
   "outputs": [],
   "source": [
    "icao = \"3c5192\"\n",
    "\n",
    "# option 1: with ADS-B Exchange\n",
    "# base_url = \"https://samples.adsbexchange.com/traces/2022/12/01/\"\n",
    "# source = \"adsb_exchange\"\n",
    "# data, metadata = gedai.fetch_raw_data(source, base_url, icao)\n",
    "\n",
    "# option 2: with bjets database\n",
    "base_url = \"https://private-jets.fra1.digitaloceanspaces.com/globe_history/2022-08-06/\"\n",
    "source = \"adsb_exchange\"\n",
    "data, metadata = gedai.fetch_raw_data(\"bjets\", base_url, icao)\n",
    "\n",
    "data"
   ]
  },
  {
   "cell_type": "markdown",
   "id": "e8a4a449",
   "metadata": {},
   "source": [
    "Fetching was successful!\n",
    "We can now move on to creating the pandas DataFrame and Flight object.\n",
    "We will use openap's aircraft class for this, for which a .yml file must be available within your OpenAP installation.\n",
    "Let's first check which aircraft are supported."
   ]
  },
  {
   "cell_type": "code",
   "execution_count": null,
   "id": "db014635",
   "metadata": {},
   "outputs": [],
   "source": [
    "available_aircraft = openap.prop.available_aircraft()\n",
    "print(f\"Supports {len(available_aircraft)} aircraft types\")\n",
    "print(available_aircraft)"
   ]
  },
  {
   "cell_type": "markdown",
   "id": "797f7e6c",
   "metadata": {},
   "source": [
    "OpenAP supports the `glf6` type (Gulfstream G650), which is close enough to the `glf5` (Gulfstream 5) that we are after.\n",
    "Let's now create this aircraft class.\n",
    "\n",
    "Note: If you have access to BADA3, you can also generate an aircraft object using:\n",
    "\n",
    "```python\n",
    "from openap.addon import bada3\n",
    "bada_path = \"/path/to/bada3/files/\"\n",
    "ac = bada3.bada3_aircraft(metadata[\"t\"], bada_path)\n",
    "```"
   ]
  },
  {
   "cell_type": "code",
   "execution_count": null,
   "id": "5679647a",
   "metadata": {},
   "outputs": [],
   "source": [
    "ac_type = \"GLF6\"\n",
    "ac = openap.prop.aircraft(ac_type)\n",
    "ac"
   ]
  },
  {
   "cell_type": "markdown",
   "id": "1ea83a6f",
   "metadata": {},
   "source": [
    "Now let's pre-process the data and create a Flight instance.\n",
    "We will use this to perform filtering etc.\n",
    "GEDAI is built on top of the `traffic` package, so we can view the Flight directly, giving us an insight into the flight duration and sampling rate."
   ]
  },
  {
   "cell_type": "code",
   "execution_count": null,
   "id": "eecbf04d",
   "metadata": {},
   "outputs": [],
   "source": [
    "df = gedai.create_dataframe(data, metadata, source)\n",
    "f = Flight(df)"
   ]
  },
  {
   "cell_type": "markdown",
   "id": "83f0f07e",
   "metadata": {},
   "source": [
    "This is clearly a single flight, so there is no need to split the flight into legs.\n",
    "For reference, this can be done using `gedai.split_by_leg(f, source=\"adsb_exchange\")`.\n",
    "\n",
    "Let's use some plots to view the flight in more detail."
   ]
  },
  {
   "cell_type": "code",
   "execution_count": null,
   "id": "14705dfd",
   "metadata": {},
   "outputs": [],
   "source": [
    "import matplotlib.pyplot as plt\n",
    "import cartopy.crs as ccrs\n",
    "\n",
    "# plot data\n",
    "ax = plt.axes(projection=ccrs.PlateCarree())\n",
    "ax.plot(f.data.longitude, f.data.latitude, \"r\", transform=ccrs.Geodetic())\n",
    "ax.coastlines()"
   ]
  },
  {
   "cell_type": "code",
   "execution_count": null,
   "id": "7a4599fd",
   "metadata": {},
   "outputs": [],
   "source": [
    "fig, ax = plt.subplots(2, 1, sharex=True)\n",
    "ax[0].scatter(f.data.timestamp, f.data.altitude)\n",
    "ax[1].scatter(f.data.timestamp, f.data.groundspeed)"
   ]
  },
  {
   "cell_type": "markdown",
   "id": "dbddea4c",
   "metadata": {},
   "source": [
    "The flight crossed the Atlantic and ADS-B data is thus missing!\n",
    "This is unfortunately a common problem, but there are ways of salvaging the situation.\n",
    "What we can do is filter and then resample the data, using a great circle distance to create points where we don't have any.\n",
    "This is not perfect, but it's something."
   ]
  },
  {
   "cell_type": "code",
   "execution_count": null,
   "id": "afed4eb6",
   "metadata": {},
   "outputs": [],
   "source": [
    "g = f.phases().filter().resample(\"20s\")\n",
    "\n",
    "fig, ax = plt.subplots(2, 1, sharex=True)\n",
    "ax[0].scatter(g.data.timestamp, g.data.altitude)\n",
    "ax[1].scatter(g.data.timestamp, g.data.groundspeed)"
   ]
  },
  {
   "cell_type": "markdown",
   "id": "1d4c2a48",
   "metadata": {},
   "source": [
    "Okay, it's clearly not perfect, but it will do for now.\n",
    "\n",
    "Let's now calculate the fuel flow.\n",
    "Note: the `compute_fuel_flow` function currently only works for the BADA3 add-on, so we will do this manually."
   ]
  },
  {
   "cell_type": "code",
   "execution_count": null,
   "id": "d6958083",
   "metadata": {},
   "outputs": [],
   "source": [
    "g = gedai.calculate_distance(g)\n",
    "m_0 = ac[\"mtow\"] * 0.9\n",
    "fuelflow = openap.FuelFlow(ac_type)\n",
    "\n",
    "# the compute_fuel_flow function currently only works for BADA3\n",
    "# g = gedai.compute_fuel_flow(g, fuelflow, m_0, ac)\n",
    "\n",
    "# calculate fuel flow manually iteratively\n",
    "ff_lst = []\n",
    "fuel_lst = []\n",
    "mass_current = m_0\n",
    "\n",
    "d_ts = g.data.timestamp.diff().dt.total_seconds().bfill().values\n",
    "for i, row in g.data.iterrows():\n",
    "    ff = fuelflow.enroute(\n",
    "        mass=mass_current,\n",
    "        tas=row.groundspeed,\n",
    "        alt=row.altitude,\n",
    "        vs=row.vertical_rate,\n",
    "    )\n",
    "    if row.phase == \"GROUND\" or row.phase == \"NA\":\n",
    "        ff = 0.0\n",
    "    fuel = ff * d_ts[i]\n",
    "    ff_lst.append(ff)\n",
    "    fuel_lst.append(ff * d_ts[i])\n",
    "    mass_current -= fuel\n",
    "g = g.assign(fuelflow=ff_lst, fuel=fuel_lst)\n",
    "\n",
    "g.data"
   ]
  },
  {
   "cell_type": "markdown",
   "id": "d9e72128",
   "metadata": {},
   "source": [
    "Now we can look at the emissions."
   ]
  },
  {
   "cell_type": "code",
   "execution_count": null,
   "id": "19345af0",
   "metadata": {},
   "outputs": [],
   "source": [
    "# calculate emissions\n",
    "g = gedai.calc_emissions(g, ac)\n",
    "\n",
    "fig, ax = plt.subplots(2, 1, sharex=True)\n",
    "ax[0].scatter(g.data.timestamp, g.data.co2flow, label=\"CO2 [kg/s]\")\n",
    "ax[0].scatter(g.data.timestamp, g.data.h2oflow, label=\"H2O [kg/s]\")\n",
    "ax[1].scatter(g.data.timestamp, g.data.noxflow, label=\"NOx [kg/s]\")\n",
    "\n",
    "ax[0].legend(loc=\"best\")\n",
    "ax[1].legend(loc=\"best\")"
   ]
  },
  {
   "cell_type": "code",
   "execution_count": null,
   "id": "e0e3330a",
   "metadata": {},
   "outputs": [],
   "source": []
  }
 ],
 "metadata": {
  "kernelspec": {
   "display_name": "traffic",
   "language": "python",
   "name": "python3"
  },
  "language_info": {
   "codemirror_mode": {
    "name": "ipython",
    "version": 3
   },
   "file_extension": ".py",
   "mimetype": "text/x-python",
   "name": "python",
   "nbconvert_exporter": "python",
   "pygments_lexer": "ipython3",
   "version": "3.12.11"
  }
 },
 "nbformat": 4,
 "nbformat_minor": 5
}
